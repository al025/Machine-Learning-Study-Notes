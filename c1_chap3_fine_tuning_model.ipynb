{
  "nbformat": 4,
  "nbformat_minor": 0,
  "metadata": {
    "colab": {
      "name": "c1_chap3_fine_tuning_model.ipynb",
      "provenance": [],
      "authorship_tag": "ABX9TyN1uMQWaANdLnLe2YYS0XDP",
      "include_colab_link": true
    },
    "kernelspec": {
      "name": "python3",
      "display_name": "Python 3"
    }
  },
  "cells": [
    {
      "cell_type": "markdown",
      "metadata": {
        "id": "view-in-github",
        "colab_type": "text"
      },
      "source": [
        "<a href=\"https://colab.research.google.com/github/al025/Machine-Learning-Study-Notes/blob/master/c1_chap3_fine_tuning_model.ipynb\" target=\"_parent\"><img src=\"https://colab.research.google.com/assets/colab-badge.svg\" alt=\"Open In Colab\"/></a>"
      ]
    },
    {
      "cell_type": "markdown",
      "metadata": {
        "id": "GP5PuQQ-XAqT",
        "colab_type": "text"
      },
      "source": [
        "## Confusion matrix and classification report\n",
        "- For a classification task, given **imbalanced** data, \n",
        "accuracy metrics (defined as the ratio of correctly classified examples) may not be a good measure of model performance\n",
        "  - e.g. data: 99% real emails, 1% spam (imbalanced btw classes), classifier: predict all emails as real emails. Then accuracy = 99%, but the classifier completely fails its original purpose\n",
        "- This is why we need use another metrics: confusion matrix \n",
        "\n",
        "\\ | pred: spam | pred: real \n",
        "---|---------------| -----------\n",
        "acutal: spam | tp | fn \n",
        "actual: real | fp | tn\n",
        "\n",
        "  - precision = $\\frac{tp}{tp+fp}$\n",
        "  - recall = $\\frac{tp}{tp+fn}$\n",
        "  - f1score = $\\frac{2 \\cdot precision \\cdot recall}{precision + recall}$\n",
        "  - accuracy = $\\frac{tp+tn}{tp+fn+tn+fp}$"
      ]
    },
    {
      "cell_type": "code",
      "metadata": {
        "id": "1Sk2WMqPfZmL",
        "colab_type": "code",
        "colab": {}
      },
      "source": [
        "# use a imbalanced dataset provided in package imblearn\n",
        "!pip install -U imbalanced-learn\n",
        "from imblearn.datasets import fetch_datasets\n",
        "spectrometer = fetch_datasets()['spectrometer']"
      ],
      "execution_count": 0,
      "outputs": []
    },
    {
      "cell_type": "code",
      "metadata": {
        "id": "lFnjfhTehuyF",
        "colab_type": "code",
        "colab": {}
      },
      "source": [
        "from sklearn.model_selection import train_test_split\n",
        "X, y = spectrometer.data, spectrometer.target\n",
        "X_train, X_test, y_train, y_test = train_test_split(X, y, test_size=0.4, random_state=25)"
      ],
      "execution_count": 0,
      "outputs": []
    },
    {
      "cell_type": "code",
      "metadata": {
        "id": "sY5oh6PTP_t7",
        "colab_type": "code",
        "outputId": "776afb41-e1f2-4387-f6f2-714b0975c4a3",
        "colab": {
          "base_uri": "https://localhost:8080/",
          "height": 215
        }
      },
      "source": [
        "from sklearn.metrics import confusion_matrix, classification_report\n",
        "from sklearn.neighbors import KNeighborsClassifier\n",
        "\n",
        "knn = KNeighborsClassifier(n_neighbors=6)\n",
        "knn.fit(X_train, y_train)\n",
        "y_pred = knn.predict(X_test)\n",
        "print(confusion_matrix(y_test, y_pred))\n",
        "print(classification_report(y_test, y_pred))\n",
        "# support = number of true examples of this class"
      ],
      "execution_count": 0,
      "outputs": [
        {
          "output_type": "stream",
          "text": [
            "[[196   1]\n",
            " [  4  12]]\n",
            "              precision    recall  f1-score   support\n",
            "\n",
            "          -1       0.98      0.99      0.99       197\n",
            "           1       0.92      0.75      0.83        16\n",
            "\n",
            "    accuracy                           0.98       213\n",
            "   macro avg       0.95      0.87      0.91       213\n",
            "weighted avg       0.98      0.98      0.98       213\n",
            "\n"
          ],
          "name": "stdout"
        }
      ]
    },
    {
      "cell_type": "markdown",
      "metadata": {
        "id": "3idBDYI-uxwm",
        "colab_type": "text"
      },
      "source": [
        "## ROC curve and logistic regression for *binary* classification\n",
        "- Logistic regression has a hyperparameter called threshold T, outputs a probability p \n",
        "  - if p >= T, this example is labeled 'positive'\n",
        "  - if p < T, this example is labeled 'negative'\n",
        "  - so logistic regression has a $linear$ decision boundary \n",
        "\n",
        "- ROC (receptive operation characteristic) curve is a binary classifier metrics\n",
        "  - x-axis: false positive rate (fpr) = $\\frac{fp}{fp+tn}$ \n",
        "  - y-axis: true positive rate (tpr) = $\\frac{tp}{tp+fn}$\n",
        "  - (0, 1) is perfect classification \n",
        "  - ROC curve for random guessing is $y=x$\n",
        "  - left to $y=x$: better than random guessing \n",
        "  - ROC curve is a parameterized curve of thereshold T.\n",
        "  - as T increases, both fpr and tpr decreases; as T decreases, both fpr\n",
        "   and tpr increases\n",
        "  \n",
        "![An example of ROC curve and how it is related to the data space\n",
        " and threshold values](https://commons.wikimedia.org/wiki/File:ROC_curves.svg#/media/File:ROC_curves.svg)\n",
        "\n"
      ]
    },
    {
      "cell_type": "code",
      "metadata": {
        "id": "JWexO3RqjZYB",
        "colab_type": "code",
        "outputId": "a2a1bf77-6b0e-4e9c-c37a-51f2e4f3a567",
        "colab": {
          "base_uri": "https://localhost:8080/",
          "height": 439
        }
      },
      "source": [
        "from sklearn.linear_model import LogisticRegression\n",
        "from sklearn.metrics import roc_curve\n",
        "import matplotlib.pyplot as plt\n",
        "\n",
        "logreg = LogisticRegression()\n",
        "logreg.fit(X_train, y_train)\n",
        "# predict_proba() returns the predicted probobalities of each class\n",
        "y_pred_prob = logreg.predict_proba(X_test)[:,1]\n",
        "\n",
        "fpr, tpr, thresholds = roc_curve(y_test, y_pred_prob)\n",
        "plt.plot([0,1], [0,1], 'k--', label='Random Guessing')\n",
        "plt.plot(fpr, tpr, label='Logistic Regression')\n",
        "plt.xlabel('False Positive Rate')\n",
        "plt.ylabel('True Positive Rate')\n",
        "plt.title('ROC curve')\n",
        "plt.legend()\n",
        "plt.show()"
      ],
      "execution_count": 0,
      "outputs": [
        {
          "output_type": "stream",
          "text": [
            "/usr/local/lib/python3.6/dist-packages/sklearn/linear_model/_logistic.py:940: ConvergenceWarning: lbfgs failed to converge (status=1):\n",
            "STOP: TOTAL NO. of ITERATIONS REACHED LIMIT.\n",
            "\n",
            "Increase the number of iterations (max_iter) or scale the data as shown in:\n",
            "    https://scikit-learn.org/stable/modules/preprocessing.html\n",
            "Please also refer to the documentation for alternative solver options:\n",
            "    https://scikit-learn.org/stable/modules/linear_model.html#logistic-regression\n",
            "  extra_warning_msg=_LOGISTIC_SOLVER_CONVERGENCE_MSG)\n"
          ],
          "name": "stderr"
        },
        {
          "output_type": "display_data",
          "data": {
            "image/png": "[encoded data removed]",
            "text/plain": [
              "<Figure size 432x288 with 1 Axes>"
            ]
          },
          "metadata": {
            "tags": [],
            "needs_background": "light"
          }
        }
      ]
    },
    {
      "cell_type": "code",
      "metadata": {
        "id": "JFxtqktQ4wcb",
        "colab_type": "code",
        "outputId": "65667af3-f600-4032-e9ff-5fc34585dd94",
        "colab": {
          "base_uri": "https://localhost:8080/",
          "height": 773
        }
      },
      "source": [
        "# area under ROC curve is a good indicator of binary classifier's performance.\n",
        "# auc > 0.5 better than random guessing\n",
        "from sklearn.metrics import roc_auc_score\n",
        "from sklearn.model_selection import cross_val_score\n",
        "\n",
        "print('AUC score: {}'.format(roc_auc_score(y_test, y_pred_prob)))\n",
        "\n",
        "# we can also use cross validation to compute AUC score\n",
        "cv_auc_scores = cross_val_score(logreg, X_train, y_train, cv=5, scoring='roc_auc')\n",
        "print('AUC scores of 5-fold cross validation: {}'.format(cv_auc_scores))\n",
        "\n",
        "# Why am I getting the ConvergenceWarning ???"
      ],
      "execution_count": 0,
      "outputs": [
        {
          "output_type": "stream",
          "text": [
            "AUC score: 0.9803299492385786\n",
            "AUC scores of 5-fold cross validation: [1.         0.9683908  0.98275862 1.         0.83333333]\n"
          ],
          "name": "stdout"
        },
        {
          "output_type": "stream",
          "text": [
            "/usr/local/lib/python3.6/dist-packages/sklearn/linear_model/_logistic.py:940: ConvergenceWarning: lbfgs failed to converge (status=1):\n",
            "STOP: TOTAL NO. of ITERATIONS REACHED LIMIT.\n",
            "\n",
            "Increase the number of iterations (max_iter) or scale the data as shown in:\n",
            "    https://scikit-learn.org/stable/modules/preprocessing.html\n",
            "Please also refer to the documentation for alternative solver options:\n",
            "    https://scikit-learn.org/stable/modules/linear_model.html#logistic-regression\n",
            "  extra_warning_msg=_LOGISTIC_SOLVER_CONVERGENCE_MSG)\n",
            "/usr/local/lib/python3.6/dist-packages/sklearn/linear_model/_logistic.py:940: ConvergenceWarning: lbfgs failed to converge (status=1):\n",
            "STOP: TOTAL NO. of ITERATIONS REACHED LIMIT.\n",
            "\n",
            "Increase the number of iterations (max_iter) or scale the data as shown in:\n",
            "    https://scikit-learn.org/stable/modules/preprocessing.html\n",
            "Please also refer to the documentation for alternative solver options:\n",
            "    https://scikit-learn.org/stable/modules/linear_model.html#logistic-regression\n",
            "  extra_warning_msg=_LOGISTIC_SOLVER_CONVERGENCE_MSG)\n",
            "/usr/local/lib/python3.6/dist-packages/sklearn/linear_model/_logistic.py:940: ConvergenceWarning: lbfgs failed to converge (status=1):\n",
            "STOP: TOTAL NO. of ITERATIONS REACHED LIMIT.\n",
            "\n",
            "Increase the number of iterations (max_iter) or scale the data as shown in:\n",
            "    https://scikit-learn.org/stable/modules/preprocessing.html\n",
            "Please also refer to the documentation for alternative solver options:\n",
            "    https://scikit-learn.org/stable/modules/linear_model.html#logistic-regression\n",
            "  extra_warning_msg=_LOGISTIC_SOLVER_CONVERGENCE_MSG)\n",
            "/usr/local/lib/python3.6/dist-packages/sklearn/linear_model/_logistic.py:940: ConvergenceWarning: lbfgs failed to converge (status=1):\n",
            "STOP: TOTAL NO. of ITERATIONS REACHED LIMIT.\n",
            "\n",
            "Increase the number of iterations (max_iter) or scale the data as shown in:\n",
            "    https://scikit-learn.org/stable/modules/preprocessing.html\n",
            "Please also refer to the documentation for alternative solver options:\n",
            "    https://scikit-learn.org/stable/modules/linear_model.html#logistic-regression\n",
            "  extra_warning_msg=_LOGISTIC_SOLVER_CONVERGENCE_MSG)\n",
            "/usr/local/lib/python3.6/dist-packages/sklearn/linear_model/_logistic.py:940: ConvergenceWarning: lbfgs failed to converge (status=1):\n",
            "STOP: TOTAL NO. of ITERATIONS REACHED LIMIT.\n",
            "\n",
            "Increase the number of iterations (max_iter) or scale the data as shown in:\n",
            "    https://scikit-learn.org/stable/modules/preprocessing.html\n",
            "Please also refer to the documentation for alternative solver options:\n",
            "    https://scikit-learn.org/stable/modules/linear_model.html#logistic-regression\n",
            "  extra_warning_msg=_LOGISTIC_SOLVER_CONVERGENCE_MSG)\n"
          ],
          "name": "stderr"
        }
      ]
    },
    {
      "cell_type": "markdown",
      "metadata": {
        "id": "B113lFlU7duQ",
        "colab_type": "text"
      },
      "source": [
        "## Hyperparameter Tuning by Grid Search and Randomized Search\n",
        "- hyperparameters cannot be learned by fitting the model\n",
        "  - e.g. $\\alpha$ in lasso/ridge regression, $k$ in KNN, etc.\n",
        "- so we tune hyperparameters by\n",
        "  - try a bunch of different hyperparameter values\n",
        "  - fit a separate model for each of these values\n",
        "  - choose the best performing one\n",
        "  - it's essential to use cross validation to avoid overfitting \n",
        "- grid search is more comprehensive than randomized search; but also more \n",
        "expensive \n",
        "\n",
        "- elastic net is a type of linear regression model where its loss function\n",
        " is defined as $$loss = \\text{sum of squared residuals + l1 norm of coefficients + l2 norm of coefficients}\\\\\n",
        " =\\sum_{i=1}^n(y\\_pred^{(i)}-y\\_true^{(i)})^2 + \\gamma\\sum_{i=1}^n|a^{(i)}| + (1-\\gamma)\\gamma\\sum_{i=1}^n(a^{(i)})^2\n",
        " $$ \n",
        " where $\\gamma$ is a hyperparameter called l1 ratio.\n",
        "\n",
        "- decision tree is a type of tree classification models which has many \n",
        "hyperparameters, such as <mark>'max_depth'</mark>,\n",
        "<mark>'max_features'</mark>,\n",
        "<mark>'min_samples_leaf'</mark>.\n",
        "\n"
      ]
    },
    {
      "cell_type": "code",
      "metadata": {
        "id": "EXZUyh1k7c8P",
        "colab_type": "code",
        "outputId": "41af1206-6a4c-4456-a3b0-b4dc461ec454",
        "colab": {
          "base_uri": "https://localhost:8080/",
          "height": 197
        }
      },
      "source": [
        "from sklearn.linear_model import ElasticNet\n",
        "from sklearn.model_selection import GridSearchCV, RandomizedSearchCV\n",
        "from sklearn.metrics import mean_squared_error\n",
        "import numpy as np\n",
        "from scipy.stats import uniform\n",
        "\n",
        "# to hide all warnings \n",
        "import warnings\n",
        "warnings.filterwarnings('ignore')\n",
        "\n",
        "elastic_net = ElasticNet()\n",
        "\n",
        "# the hyperparameter space for a grid search is an array-like object\n",
        "param_grid = {'l1_ratio': np.linspace(0, 1, 15)}\n",
        "# the hyperparameter space for a randomized search is a distribution\n",
        "param_dist = {'l1_ratio': uniform()}\n",
        "\n",
        "en_gcv = GridSearchCV(elastic_net, param_grid, cv=5)\n",
        "%timeit en_gcv.fit(X_train, y_train)\n",
        "print('Tuned l1 ration by grid search: {}'.format(en_gcv.best_params_))\n",
        "print('Tuned cv score by grid search: {}'.format(en_gcv.best_score_))\n",
        "y_pred = en_gcv.predict(X_test)\n",
        "r2 = en_gcv.score(X_test, y_test)\n",
        "mse = mean_squared_error(y_test, y_pred)\n",
        "print('Tuned R squared by grid search: {}'.format(r2))\n",
        "print('Tuned MSE by grid search: {}'.format(mse))\n",
        "# %timeit en_gcv = GridSearchCV(elastic_net, param_grid, cv=5)\n",
        "\n",
        "en_rcv = RandomizedSearchCV(elastic_net, param_dist, cv=5)\n",
        "%timeit en_rcv.fit(X_train, y_train)\n",
        "print('Tuned l1 ration value by randomized search: {}'.format(en_rcv.best_params_))\n",
        "print('Tuned cv score by randomized search: {}'.format(en_rcv.best_score_))\n",
        "y_pred = en_rcv.predict(X_test)\n",
        "r2 = en_rcv.score(X_test, y_test)\n",
        "mse = mean_squared_error(y_test, y_pred)\n",
        "print('Tuned R squared by grid search: {}'.format(r2))\n",
        "print('Tuned MSE by grid search: {}'.format(mse))\n",
        "# %timeit en_rcv = RandomizedSearchCV(elastic_net, param_dist, cv=5)"
      ],
      "execution_count": 0,
      "outputs": [
        {
          "output_type": "stream",
          "text": [
            "1 loop, best of 3: 2.57 s per loop\n",
            "Tuned l1 ration by grid search: {'l1_ratio': 1.0}\n",
            "Tuned cv score by grid search: 0.4473886886267552\n",
            "Tuned R squared by grid search: 0.288759983309246\n",
            "Tuned MSE by grid search: 0.2311385043992258\n",
            "1 loop, best of 3: 1.72 s per loop\n",
            "Tuned l1 ration value by randomized search: {'l1_ratio': 0.9839022458864596}\n",
            "Tuned cv score by randomized search: 0.44580883986343967\n",
            "Tuned R squared by grid search: 0.28777423517525735\n",
            "Tuned MSE by grid search: 0.23145885244497355\n"
          ],
          "name": "stdout"
        }
      ]
    },
    {
      "cell_type": "code",
      "metadata": {
        "id": "dNenstbuN_1w",
        "colab_type": "code",
        "outputId": "1bcb0612-3e67-4d77-d290-94f76ab444ae",
        "colab": {
          "base_uri": "https://localhost:8080/",
          "height": 251
        }
      },
      "source": [
        "from sklearn.tree import DecisionTreeClassifier\n",
        "from scipy.stats import randint\n",
        "\n",
        "tree = DecisionTreeClassifier()\n",
        "param_dist = {'max_depth': [3, None],\n",
        "        'max_features': randint(1, 9),\n",
        "        'min_samples_leaf': randint(1, 9),\n",
        "        'criterion': ['entropy', 'gini']}\n",
        "\n",
        "tree_cv = RandomizedSearchCV(tree, param_dist, cv=5)\n",
        "tree_cv.fit(X_train, y_train)\n",
        "\n",
        "print('Tuned hyperparameters: {}'.format(tree_cv.best_params_))\n",
        "print('Tuned cv score: {}'.format(tree_cv.best_score_))\n",
        "y_pred = tree_cv.predict(X_test)\n",
        "print('Confusion matrix on test set: {}'.format(confusion_matrix(y_test, y_pred)))\n",
        "print('Classification report on test set: {}'.format(classification_report(y_test, y_pred)))"
      ],
      "execution_count": 0,
      "outputs": [
        {
          "output_type": "stream",
          "text": [
            "Tuned hyperparameters: {'criterion': 'gini', 'max_depth': None, 'max_features': 7, 'min_samples_leaf': 7}\n",
            "Tuned cv score: 0.9716765873015873\n",
            "Confusion matrix on test set: [[193   1]\n",
            " [  5  14]]\n",
            "Classification report on test set:               precision    recall  f1-score   support\n",
            "\n",
            "          -1       0.97      0.99      0.98       194\n",
            "           1       0.93      0.74      0.82        19\n",
            "\n",
            "    accuracy                           0.97       213\n",
            "   macro avg       0.95      0.87      0.90       213\n",
            "weighted avg       0.97      0.97      0.97       213\n",
            "\n"
          ],
          "name": "stdout"
        }
      ]
    }
  ]
}