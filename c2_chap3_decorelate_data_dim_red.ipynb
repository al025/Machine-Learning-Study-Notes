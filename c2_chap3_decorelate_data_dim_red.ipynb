{
  "nbformat": 4,
  "nbformat_minor": 0,
  "metadata": {
    "colab": {
      "name": "c2_chap3_decorelate_data_dim_red.ipynb",
      "provenance": [],
      "authorship_tag": "ABX9TyMYaPRLrBfM/K4uYx+DOD0l",
      "include_colab_link": true
    },
    "kernelspec": {
      "name": "python3",
      "display_name": "Python 3"
    }
  },
  "cells": [
    {
      "cell_type": "markdown",
      "metadata": {
        "id": "view-in-github",
        "colab_type": "text"
      },
      "source": [
        "<a href=\"https://colab.research.google.com/github/al025/Machine-Learning-Study-Notes/blob/master/c2_chap3_decorelate_data_dim_red.ipynb\" target=\"_parent\"><img src=\"https://colab.research.google.com/assets/colab-badge.svg\" alt=\"Open In Colab\"/></a>"
      ]
    },
    {
      "cell_type": "markdown",
      "metadata": {
        "id": "DSZqRjjai_QJ",
        "colab_type": "text"
      },
      "source": [
        "\n",
        "### Application\n",
        "- cluster Wikipedia articles by their contents \n",
        "\n",
        "### Objectives\n",
        "- use PCA to decorrelate features \n",
        "- use PCA to reduce dimensions\n",
        "- use TfidfVectorizer to vectorize text \n",
        "- use TruncatedSVD to reduce dimensions of a sparse matrix (a cst_matrix object)\n",
        "\n",
        "### Data\n",
        "- Grains \n",
        "- Wikipedia articles\n"
      ]
    },
    {
      "cell_type": "code",
      "metadata": {
        "id": "tzP_fsTmmRie",
        "colab_type": "code",
        "colab": {
          "base_uri": "https://localhost:8080/",
          "height": 35
        },
        "outputId": "cfdd2681-6d84-4e4c-f77b-d734d9cc0042"
      },
      "source": [
        "from google.colab import drive\n",
        "drive.mount('/content/drive')\n",
        "dir = '/content/drive/My Drive/MachineLearningDatacampCareerTrack/c2_sklearn_unsupervised/data'"
      ],
      "execution_count": 5,
      "outputs": [
        {
          "output_type": "stream",
          "text": [
            "Drive already mounted at /content/drive; to attempt to forcibly remount, call drive.mount(\"/content/drive\", force_remount=True).\n"
          ],
          "name": "stdout"
        }
      ]
    },
    {
      "cell_type": "markdown",
      "metadata": {
        "id": "uO66Nh4nmlsS",
        "colab_type": "text"
      },
      "source": [
        "### Demo 1: PCA decorrelate features \n",
        "- PCA shift data samples to be centred at the origin (to have mean 0) and align data samples with axes (principal components are the new basis)\n",
        "- no info is lost in this fitting process \n",
        "- by doing so, PCA decorrelate features (PCA features are orthogonal)\n",
        "- PCA.components_ is a ndarray (the new basis), in descending order of l2 norm (variance) \n",
        "- higher variance $\\rightarrow$ this feature serves our purpose (classification, regression) better\n",
        "- Pearson correlation score $\\in [-1,1]$, measures *linear* correlation\n",
        "  - closer to 1 $\\rightarrow$ more positively correlated\n",
        "  - closer to -1 $\\rightarrow$ more negatively correlated\n",
        "  - close to 0 $\\rightarrow$ not correlated"
      ]
    },
    {
      "cell_type": "code",
      "metadata": {
        "id": "8RXnTNTkivl3",
        "colab_type": "code",
        "outputId": "101c6ee3-4466-406b-dba3-b8c3c073f95b",
        "colab": {
          "base_uri": "https://localhost:8080/",
          "height": 336
        }
      },
      "source": [
        "# load dataset\n",
        "import pandas as pd\n",
        "fname = dir + '/Grains/seeds-width-vs-length.csv'\n",
        "grains = pd.read_csv(fname) \n",
        "print(grains.shape)\n",
        "print(type(grains))\n",
        "# visualize the data space and print correlation score\n",
        "import matplotlib.pyplot as plt\n",
        "from scipy.stats import pearsonr\n",
        "\n",
        "width, length = grains.iloc[:,0], grains.iloc[:,1]\n",
        "plt.scatter(width, length)\n",
        "plt.xlabel('Width')\n",
        "plt.ylabel('Length')\n",
        "plt.axis('equal')\n",
        "plt.show()\n",
        "\n",
        "correlation, pvalue = pearsonr(width, length)\n",
        "print(correlation)"
      ],
      "execution_count": 6,
      "outputs": [
        {
          "output_type": "stream",
          "text": [
            "(209, 2)\n",
            "<class 'pandas.core.frame.DataFrame'>\n"
          ],
          "name": "stdout"
        },
        {
          "output_type": "display_data",
          "data": {
            "image/png": "[encoded data removed]",
            "text/plain": [
              "<Figure size 432x288 with 1 Axes>"
            ]
          },
          "metadata": {
            "tags": [],
            "needs_background": "light"
          }
        },
        {
          "output_type": "stream",
          "text": [
            "0.8604405325922296\n"
          ],
          "name": "stdout"
        }
      ]
    },
    {
      "cell_type": "code",
      "metadata": {
        "id": "FTQq2dcIqnS7",
        "colab_type": "code",
        "outputId": "51754158-7b55-49d9-e049-d23421590877",
        "colab": {
          "base_uri": "https://localhost:8080/",
          "height": 334
        }
      },
      "source": [
        "# visualize the PCA-transformed data space and print the correlation score\n",
        "from sklearn.decomposition import PCA\n",
        "pca = PCA()\n",
        "features = pca.fit_transform(grains)\n",
        "print(features.shape)\n",
        "print(type(features))\n",
        "xs, ys = features[:,0], features[:,1]\n",
        "plt.scatter(xs, ys)\n",
        "plt.xlabel('Feature_0')\n",
        "plt.ylabel('Feature_1')\n",
        "plt.axis('equal')\n",
        "plt.show()\n",
        "\n",
        "correlation, pvalue = pearsonr(xs, ys)\n",
        "print(correlation)"
      ],
      "execution_count": 13,
      "outputs": [
        {
          "output_type": "stream",
          "text": [
            "(209, 2)\n",
            "<class 'numpy.ndarray'>\n"
          ],
          "name": "stdout"
        },
        {
          "output_type": "display_data",
          "data": {
            "image/png": "[encoded data removed]",
            "text/plain": [
              "<Figure size 432x288 with 1 Axes>"
            ]
          },
          "metadata": {
            "tags": [],
            "needs_background": "light"
          }
        },
        {
          "output_type": "stream",
          "text": [
            "-2.413434035952733e-16\n"
          ],
          "name": "stdout"
        }
      ]
    },
    {
      "cell_type": "markdown",
      "metadata": {
        "id": "D1_l7RzvupP8",
        "colab_type": "text"
      },
      "source": [
        "Demo 2: understand what are **principal components** and **intrinsic dimension**\n",
        "- principal components = directions of variance\n",
        "- PCA aligns principal components with axes \n",
        "- principal components essentially change basis of the data points\n",
        "\n",
        "\n"
      ]
    },
    {
      "cell_type": "code",
      "metadata": {
        "id": "C69rjPWoxfT-",
        "colab_type": "code",
        "outputId": "9280e2b8-3aba-4ced-c739-e704d0c15419",
        "colab": {
          "base_uri": "https://localhost:8080/",
          "height": 282
        }
      },
      "source": [
        "plt.scatter(width, length)\n",
        "plt.xlabel('Width')\n",
        "plt.ylabel('Length')\n",
        "plt.axis('equal')\n",
        "mean = pca.mean_\n",
        "component_1 = pca.components_[0]\n",
        "plt.arrow(mean[0], mean[1], component_1[0], component_1[1], color='red', width=0.02)\n",
        "component_2 = pca.components_[1]\n",
        "plt.arrow(mean[0], mean[1], component_2[0], component_2[1], color='red', width=0.01)\n",
        "plt.show()"
      ],
      "execution_count": 12,
      "outputs": [
        {
          "output_type": "display_data",
          "data": {
            "image/png": "[encoded data removed]",
            "text/plain": [
              "<Figure size 432x288 with 1 Axes>"
            ]
          },
          "metadata": {
            "tags": [],
            "needs_background": "light"
          }
        }
      ]
    },
    {
      "cell_type": "markdown",
      "metadata": {
        "id": "83VGJh8UzV8c",
        "colab_type": "text"
      },
      "source": [
        "demo 3: understand what are **intrinsic dimension**\n",
        "- instrinsic dimension = number of dimensions needed to approximate the dataset\n",
        "- instrinsic dimension shows how compact the dataset can be represented\n",
        "- analogy: view individual features as small Lego pieces, then principal components are like parts assembled from pieces, more conveniently used to build towards our goal"
      ]
    },
    {
      "cell_type": "code",
      "metadata": {
        "id": "7AOvjO0pzhhD",
        "colab_type": "code",
        "outputId": "f8f5ccf9-4b42-42e6-c17e-30fd431ef3fd",
        "colab": {
          "base_uri": "https://localhost:8080/",
          "height": 279
        }
      },
      "source": [
        "features = range(len(pca.components_))\n",
        "plt.bar(features, pca.explained_variance_)\n",
        "plt.xlabel('PCA Feature')\n",
        "plt.ylabel('Variance')\n",
        "plt.show()\n",
        "# we can see that width, length can be represented by 1 pc; i.e. instrinsic dim=1\n",
        "# this is why we can do dimension reduction with PCA"
      ],
      "execution_count": 14,
      "outputs": [
        {
          "output_type": "display_data",
          "data": {
            "image/png": "[encoded data removed]",
            "text/plain": [
              "<Figure size 432x288 with 1 Axes>"
            ]
          },
          "metadata": {
            "tags": [],
            "needs_background": "light"
          }
        }
      ]
    },
    {
      "cell_type": "markdown",
      "metadata": {
        "id": "J-6T1sZhOY_I",
        "colab_type": "text"
      },
      "source": [
        "Demo 4: use PCA to reduce dimensions"
      ]
    },
    {
      "cell_type": "code",
      "metadata": {
        "id": "KBfA3zYuNSrH",
        "colab_type": "code",
        "colab": {
          "base_uri": "https://localhost:8080/",
          "height": 283
        },
        "outputId": "25a8d643-c334-4d89-e741-c08f21ca5d34"
      },
      "source": [
        "# load data \n",
        "fname = dir + '/Grains/seeds.csv'\n",
        "df = pd.read_csv(fname) # 209 samples, 7 feature variables, 1 target variable\n",
        "samples = df.iloc[:,:7] \n",
        "\n",
        "# fit and transform samples in R^7 to R^3\n",
        "from sklearn.preprocessing import StandardScaler\n",
        "from sklearn.decomposition import PCA\n",
        "from sklearn.pipeline import make_pipeline\n",
        "\n",
        "pca = PCA()\n",
        "pipeline = make_pipeline(StandardScaler(), pca)\n",
        "pipeline.fit(samples)\n",
        "# we can peek at the intrinsic dimension\n",
        "plt.bar(range(len(pca.components_)), pca.explained_variance_)\n",
        "plt.show()\n",
        "# the first 3 components have high variance\n",
        "pca = PCA(n_components=3)\n",
        "pipeline = make_pipeline(StandardScaler(), pca)\n",
        "pca_features = pipeline.fit_transform(samples)\n",
        "print(pca_features.shape)\n"
      ],
      "execution_count": 26,
      "outputs": [
        {
          "output_type": "display_data",
          "data": {
            "image/png": "[encoded data removed]",
            "text/plain": [
              "<Figure size 432x288 with 1 Axes>"
            ]
          },
          "metadata": {
            "tags": [],
            "needs_background": "light"
          }
        },
        {
          "output_type": "stream",
          "text": [
            "(209, 3)\n"
          ],
          "name": "stdout"
        }
      ]
    },
    {
      "cell_type": "markdown",
      "metadata": {
        "id": "i6HtUMbDQlcJ",
        "colab_type": "text"
      },
      "source": [
        "Demo 5: Use TfidfVectorizer to convert text dataset to word frequency array\n"
      ]
    },
    {
      "cell_type": "code",
      "metadata": {
        "id": "87txp2AvQhTc",
        "colab_type": "code",
        "colab": {
          "base_uri": "https://localhost:8080/",
          "height": 197
        },
        "outputId": "927a431d-267a-498d-e162-5775982cffa7"
      },
      "source": [
        "from sklearn.feature_extraction.text import TfidfVectorizer\n",
        "\n",
        "# toy dataset\n",
        "documents = ['You would have searched a long time', 'for the sort of winding lane', 'for which England later became celebrated']\n",
        "\n",
        "tfidf = TfidfVectorizer()\n",
        "csr_mat = tfidf.fit_transform(documents)\n",
        "print(csr_mat.toarray())\n",
        "\n",
        "words = tfidf.get_feature_names()\n",
        "print(words)"
      ],
      "execution_count": 27,
      "outputs": [
        {
          "output_type": "stream",
          "text": [
            "[[0.         0.         0.         0.         0.40824829 0.\n",
            "  0.         0.40824829 0.         0.40824829 0.         0.\n",
            "  0.40824829 0.         0.         0.40824829 0.40824829]\n",
            " [0.         0.         0.         0.32200242 0.         0.42339448\n",
            "  0.         0.         0.42339448 0.         0.42339448 0.42339448\n",
            "  0.         0.         0.42339448 0.         0.        ]\n",
            " [0.42339448 0.42339448 0.42339448 0.32200242 0.         0.\n",
            "  0.42339448 0.         0.         0.         0.         0.\n",
            "  0.         0.42339448 0.         0.         0.        ]]\n",
            "['became', 'celebrated', 'england', 'for', 'have', 'lane', 'later', 'long', 'of', 'searched', 'sort', 'the', 'time', 'which', 'winding', 'would', 'you']\n"
          ],
          "name": "stdout"
        }
      ]
    },
    {
      "cell_type": "markdown",
      "metadata": {
        "id": "ZFbDoi7dIpxJ",
        "colab_type": "text"
      },
      "source": [
        "Demo 6: Cluster Wikipedia articles by contents\n",
        "- word frequency array: \n",
        "  - each row is a document, each column is a word\n",
        "  - number of columns = volcabulary size\n",
        "  - measures word frequency in a document using tf-idf (adjusted weighting scheme where tf refers to frequency of a word and idf reduces the weights of most frequent words of English)\n",
        "  - a sparse array where most entries are zero (a scipy.sparse.csr_matrix \n",
        "  object where only non-zero entries are stored)\n",
        "  - TruncatedSVD accepts csr_matrix, it has the same interface as PCA"
      ]
    },
    {
      "cell_type": "code",
      "metadata": {
        "id": "MhbxaDy2IlL3",
        "colab_type": "code",
        "colab": {}
      },
      "source": [
        "# load and preproce data\n",
        "from scipy.sparse import csr_matrix\n",
        "fname = dir + '/Wikipedia articles/wikipedia-vectors.csv'\n",
        "df = pd.read_csv(fname, index_col=0)  # 13125 rows, 60 columns\n",
        "# print(df.info())\n",
        "articles = csr_matrix(df.transpose())\n",
        "titles = df.columns"
      ],
      "execution_count": 0,
      "outputs": []
    },
    {
      "cell_type": "code",
      "metadata": {
        "id": "mK95Rw86LcrT",
        "colab_type": "code",
        "colab": {
          "base_uri": "https://localhost:8080/",
          "height": 1000
        },
        "outputId": "d109c1e7-c07d-4557-e477-292d070e2a82"
      },
      "source": [
        "from sklearn.decomposition import TruncatedSVD\n",
        "from sklearn.cluster import KMeans\n",
        "from sklearn.pipeline import make_pipeline\n",
        "\n",
        "svd = TruncatedSVD(n_components=50)\n",
        "kmeans = KMeans(n_clusters=6)\n",
        "pipeline = make_pipeline(svd, kmeans)\n",
        "labels = pipeline.fit_predict(articles)\n",
        "df = pd.DataFrame({'label': labels, 'article': titles})\n",
        "print(df.sort_values('label'))"
      ],
      "execution_count": 20,
      "outputs": [
        {
          "output_type": "stream",
          "text": [
            "    label                                        article\n",
            "44      0                                           Gout\n",
            "40      0                                    Tonsillitis\n",
            "41      0                                    Hepatitis B\n",
            "42      0                                    Doxycycline\n",
            "43      0                                       Leukemia\n",
            "45      0                                    Hepatitis C\n",
            "46      0                                     Prednisone\n",
            "47      0                                          Fever\n",
            "48      0                                     Gabapentin\n",
            "49      0                                       Lymphoma\n",
            "59      1                                    Adam Levine\n",
            "51      1                                     Nate Ruess\n",
            "50      1                                   Chad Kroeger\n",
            "57      1                          Red Hot Chili Peppers\n",
            "56      1                                       Skrillex\n",
            "55      1                                  Black Sabbath\n",
            "58      1                                         Sepsis\n",
            "53      1                                   Stevie Nicks\n",
            "52      1                                     The Wanted\n",
            "54      1                                 Arctic Monkeys\n",
            "30      2                  France national football team\n",
            "39      2                                  Franck Ribéry\n",
            "37      2                                       Football\n",
            "36      2              2014 FIFA World Cup qualification\n",
            "35      2                Colombia national football team\n",
            "34      2                             Zlatan Ibrahimović\n",
            "33      2                                 Radamel Falcao\n",
            "32      2                                   Arsenal F.C.\n",
            "31      2                              Cristiano Ronaldo\n",
            "38      2                                         Neymar\n",
            "29      3                               Jennifer Aniston\n",
            "27      3                                 Dakota Fanning\n",
            "26      3                                     Mila Kunis\n",
            "25      3                                  Russell Crowe\n",
            "24      3                                   Jessica Biel\n",
            "23      3                           Catherine Zeta-Jones\n",
            "22      3                              Denzel Washington\n",
            "21      3                             Michael Fassbender\n",
            "20      3                                 Angelina Jolie\n",
            "28      3                                  Anne Hathaway\n",
            "10      4                                 Global warming\n",
            "11      4       Nationally Appropriate Mitigation Action\n",
            "12      4                                   Nigel Lawson\n",
            "14      4                                 Climate change\n",
            "13      4                               Connie Hedegaard\n",
            "16      4                                        350.org\n",
            "17      4  Greenhouse gas emissions by the United States\n",
            "18      4  2010 United Nations Climate Change Conference\n",
            "19      4  2007 United Nations Climate Change Conference\n",
            "15      4                                 Kyoto Protocol\n",
            "9       5                                       LinkedIn\n",
            "8       5                                        Firefox\n",
            "7       5                                  Social search\n",
            "6       5                    Hypertext Transfer Protocol\n",
            "5       5                                         Tumblr\n",
            "4       5                                  Google Search\n",
            "3       5                                    HTTP cookie\n",
            "2       5                              Internet Explorer\n",
            "1       5                                 Alexa Internet\n",
            "0       5                                       HTTP 404\n"
          ],
          "name": "stdout"
        }
      ]
    }
  ]
}